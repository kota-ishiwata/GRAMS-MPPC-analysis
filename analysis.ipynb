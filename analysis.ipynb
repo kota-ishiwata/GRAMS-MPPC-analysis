{
 "cells": [
  {
   "cell_type": "code",
   "execution_count": 1,
   "metadata": {},
   "outputs": [],
   "source": [
    "import uproot\n",
    "import numpy as np\n",
    "import matplotlib.pyplot as plt\n",
    "from scipy import signal\n",
    "from scipy.ndimage import gaussian_filter1d as gf\n"
   ]
  },
  {
   "cell_type": "code",
   "execution_count": 2,
   "metadata": {},
   "outputs": [],
   "source": [
    "file     = uproot.open(\"/Users/ishiwata/grams/data/20230620/liquidN_HV174_tr56_bl129000087.bin.root\")\n",
    "\n",
    "header   = file['header']\n",
    "tree     = file['tree']\n",
    "QDC      = tree.arrays(['qdc'], library='numpy')['qdc']\n",
    "waveform = tree.arrays(['waveform'], library='numpy')['waveform']\n",
    "timebin_width = header.arrays(['timebin_width'], library='numpy')['timebin_width'] #ns\n",
    "wave_num = tree.arrays(['wave_num'], library='numpy')['wave_num'][0]\n",
    "time_array    = np.arange(wave_num) * timebin_width #* ns2us"
   ]
  },
  {
   "cell_type": "code",
   "execution_count": 3,
   "metadata": {},
   "outputs": [],
   "source": [
    "#FFTで周期的な成分を除去\n",
    "num=len(waveform)\n",
    "fft_wave=np.zeros((len(waveform),1000)) #fftでpeakを除去した波形\n",
    "for i in range(len(waveform)):\n",
    "    offset=abs(np.min(waveform[i]))\n",
    "    X=waveform[i]\n",
    "    N =len(X)      #データ長\n",
    "    fs=1e+9          #サンプリング周波数\n",
    "    dt =1/fs       # サンプリング間隔\n",
    "    t = np.arange(0.0, N*dt, dt) #時間軸\n",
    "    freq = np.linspace(0, fs,N) #周波数軸\n",
    "    fn=1/dt/2     #ナイキスト周波数\n",
    "    F=np.fft.fft(X)/(N/2)\n",
    "    F[(freq>fn)]=0 #ナイキスト周波数以降をカット\n",
    "    X_0=np.abs(F)\n",
    "    threshold=np.amax(X_0)*0.03\n",
    "    peak_index=np.where(X_0 > threshold) #threshold以上のpeak_indexを抽出\n",
    "    peak_freq=[]\n",
    "    for n in peak_index[0]:\n",
    "        if freq[n] > 1e7:\n",
    "            peak_freq.append(freq[n])\n",
    "\n",
    "    for hz in peak_freq:\n",
    "        F[(freq==hz)]=0\n",
    "    X_1=np.abs(F) #trendを除去した波形(横軸周波数)\n",
    "    X_2=np.real(np.fft.ifft(F))*N #trendを除去した波形(横軸時間[ns]) waveform\n",
    "\n",
    "    fft_wave[i]=X_2"
   ]
  },
  {
   "cell_type": "code",
   "execution_count": 4,
   "metadata": {},
   "outputs": [],
   "source": [
    "##########################################################\n",
    "#ここにAD converter補正が入る\n",
    "##########################################################\n",
    "\n",
    "#baseline補正\n",
    "blcorr_wave=np.zeros((num,1000))\n",
    "for i in range(num):\n",
    "    baseline=np.average(fft_wave[i][0:150])\n",
    "    blcorr_wave[i]=fft_wave[i]-baseline"
   ]
  },
  {
   "cell_type": "code",
   "execution_count": null,
   "metadata": {},
   "outputs": [],
   "source": [
    "#peak位置補正\n",
    "\n",
    "# fil1というフラグを作成 \n",
    "# 0:peak indexが200-400nsの中\n",
    "# 1:peak indexが200-400nsの外\n",
    "num=20\n",
    "fil1=np.zeros(num)\n",
    "peak_index=np.zeros(num)\n",
    "gfil_wave=np.zeros((num,1000))\n",
    "for i in range(num):\n",
    "    gfil_wave[i]=gf(fft_wave[i],sigma=3,mode=\"wrap\",)\n",
    "    # peak_indexfft.append(np.argmax(fft_wave[i]))\n",
    "    peak_index[i]=np.argmax(gfil_wave[i])\n",
    "    if (peak_index[i] > 200) and (peak_index[i] < 400):\n",
    "        fil1[i]=0\n",
    "    else :\n",
    "        fil1[i]=1\n",
    "# peak位置をずらして0埋めする\n",
    "# その後[0:1000]で抽出する\n",
    "shift_wave=np.zeros((num,1000))\n",
    "for i in range(num):\n",
    "    if fil1[i] == 0:\n",
    "        dif = np.max(peak_index)-peak_index[i] #一番右側にあるpeak_indexとのずれ\n",
    "        shift=np.zeros(dif.astype(\"int\"))\n",
    "        shifted_wave=np.hstack((shift,fft_wave[i]))\n",
    "        shift_wave[i]=shifted_wave[0:1000]"
   ]
  }
 ],
 "metadata": {
  "kernelspec": {
   "display_name": "uproot",
   "language": "python",
   "name": "test"
  },
  "language_info": {
   "codemirror_mode": {
    "name": "ipython",
    "version": 3
   },
   "file_extension": ".py",
   "mimetype": "text/x-python",
   "name": "python",
   "nbconvert_exporter": "python",
   "pygments_lexer": "ipython3",
   "version": "3.9.12"
  },
  "orig_nbformat": 4
 },
 "nbformat": 4,
 "nbformat_minor": 2
}
